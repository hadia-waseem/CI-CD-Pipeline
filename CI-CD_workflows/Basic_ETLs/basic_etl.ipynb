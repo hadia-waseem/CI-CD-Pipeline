{
  "cells": [
    {
      "cell_type": "code",
      "execution_count": 15,
      "metadata": {
        "id": "b0ZJQHAws2-y"
      },
      "outputs": [],
      "source": [
        "import requests\n",
        "import pandas as pd"
      ]
    },
    {
      "cell_type": "code",
      "execution_count": 12,
      "metadata": {
        "id": "jXgBE_CzvAHO"
      },
      "outputs": [],
      "source": [
        "def sort(arr, key):\n",
        "  n = len(arr)\n",
        "  for i in range(n):\n",
        "    for j in range(0,n-i-1):\n",
        "      if arr[j][key] < arr[j+1][key]:\n",
        "        arr[j], arr[j+1] = arr[j+1], arr[j]\n",
        "  return arr"
      ]
    },
    {
      "cell_type": "code",
      "execution_count": null,
      "metadata": {
        "colab": {
          "base_uri": "https://localhost:8080/"
        },
        "id": "o9wngb2ata4P",
        "outputId": "c7404dcf-3363-4510-b5d7-3369203f7f6b"
      },
      "outputs": [
        {
          "ename": "",
          "evalue": "",
          "output_type": "error",
          "traceback": [
            "\u001b[1;31mRunning cells with 'c:\\Users\\Furqan\\AppData\\Local\\Programs\\Python\\Python313\\python.exe' requires the ipykernel package.\n",
            "\u001b[1;31mRun the following command to install 'ipykernel' into the Python environment. \n",
            "\u001b[1;31mCommand: 'c:/Users/Furqan/AppData/Local/Programs/Python/Python313/python.exe -m pip install ipykernel -U --user --force-reinstall'"
          ]
        }
      ],
      "source": [
        "url = 'https://dummyapi.online/api/movies'\n",
        "response = requests.get(url)\n",
        "if response.status_code == 200:\n",
        "  res_arr = response.json()\n",
        "  sorted_res= sort(res_arr, 'rating')\n",
        "  df = pd.DataFrame(sorted_res)\n",
        "  df.to_excel('sorted_movies.xlsx', index=False)\n",
        "  print(\"Data stores to stored_movies.xlsx\")\n",
        "  print(sorted_res)\n",
        "else:\n",
        "    print(':)')"
      ]
    }
  ],
  "metadata": {
    "colab": {
      "provenance": [],
      "toc_visible": true
    },
    "kernelspec": {
      "display_name": "Python 3",
      "name": "python3"
    },
    "language_info": {
      "name": "python",
      "version": "3.13.0"
    }
  },
  "nbformat": 4,
  "nbformat_minor": 0
}
