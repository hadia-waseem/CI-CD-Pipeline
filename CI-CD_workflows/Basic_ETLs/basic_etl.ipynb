{
  "cells": [
    {
      "cell_type": "code",
      "execution_count": 15,
      "metadata": {
        "id": "b0ZJQHAws2-y"
      },
      "outputs": [],
      "source": [
        "import requests\n",
        "import pandas as pd"
      ]
    },
    {
      "cell_type": "code",
      "execution_count": 12,
      "metadata": {
        "id": "jXgBE_CzvAHO"
      },
      "outputs": [],
      "source": [
        "def sort(arr, key):\n",
        "  n = len(arr)\n",
        "  for i in range(n):\n",
        "    for j in range(0,n-i-1):\n",
        "      if arr[j][key] < arr[j+1][key]:\n",
        "        arr[j], arr[j+1] = arr[j+1], arr[j]\n",
        "  return arr"
      ]
    },
    {
      "cell_type": "code",
      "execution_count": 13,
      "metadata": {
        "colab": {
          "base_uri": "https://localhost:8080/"
        },
        "id": "o9wngb2ata4P",
        "outputId": "c7404dcf-3363-4510-b5d7-3369203f7f6b"
      },
      "outputs": [
        {
          "name": "stdout",
          "output_type": "stream",
          "text": [
            "[{'id': 1, 'movie': 'The Shawshank Redemption', 'rating': 9.2, 'image': 'images/shawshank.jpg', 'imdb_url': 'https://www.imdb.com/title/tt0111161/'}, {'id': 2, 'movie': 'The Godfather', 'rating': 9.2, 'image': 'images/godfather.jpg', 'imdb_url': 'https://www.imdb.com/title/tt0068646/'}, {'id': 3, 'movie': 'The Dark Knight', 'rating': 9, 'image': 'images/dark_knight.jpg', 'imdb_url': 'https://www.imdb.com/title/tt0468569/'}, {'id': 5, 'movie': 'The Lord of the Rings: The Return of the King', 'rating': 9, 'image': 'images/lotr_return_king.jpg', 'imdb_url': 'https://www.imdb.com/title/tt0167260/'}, {'id': 4, 'movie': 'Pulp Fiction', 'rating': 8.9, 'image': 'images/pulp_fiction.jpg', 'imdb_url': 'https://www.imdb.com/title/tt0110912/'}, {'id': 13, 'movie': \"Schindler's List\", 'rating': 8.9, 'image': 'images/schindlers_list.jpg', 'imdb_url': 'https://www.imdb.com/title/tt0108052/'}, {'id': 6, 'movie': 'The Good, the Bad and the Ugly', 'rating': 8.8, 'image': 'images/good_bad_ugly.jpg', 'imdb_url': 'https://www.imdb.com/title/tt0060196/'}, {'id': 7, 'movie': 'Fight Club', 'rating': 8.8, 'image': 'images/fight_club.jpg', 'imdb_url': 'https://www.imdb.com/title/tt0137523/'}, {'id': 8, 'movie': 'The Lord of the Rings: The Fellowship of the Ring', 'rating': 8.8, 'image': 'images/lotr_fellowship.jpg', 'imdb_url': 'https://www.imdb.com/title/tt0120737/'}, {'id': 9, 'movie': 'Forrest Gump', 'rating': 8.8, 'image': 'images/forrest_gump.jpg', 'imdb_url': 'https://www.imdb.com/title/tt0109830/'}, {'id': 10, 'movie': 'Inception', 'rating': 8.8, 'image': 'images/inception.jpg', 'imdb_url': 'https://www.imdb.com/title/tt1375666/'}, {'id': 40, 'movie': 'Fight Club', 'rating': 8.8, 'image': 'images/fight_club.jpg', 'imdb_url': 'https://www.imdb.com/title/tt0137523/'}, {'id': 12, 'movie': 'The Matrix', 'rating': 8.7, 'image': 'images/matrix.jpg', 'imdb_url': 'https://www.imdb.com/title/tt0133093/'}, {'id': 15, 'movie': 'Star Wars: Episode V - The Empire Strikes Back', 'rating': 8.7, 'image': 'images/empire_strikes_back.jpg', 'imdb_url': 'https://www.imdb.com/title/tt0080684/'}, {'id': 11, 'movie': 'Interstellar', 'rating': 8.6, 'image': 'images/interstellar.jpg', 'imdb_url': 'https://www.imdb.com/title/tt0816692/'}, {'id': 14, 'movie': 'The Silence of the Lambs', 'rating': 8.6, 'image': 'images/silence_lambs.jpg', 'imdb_url': 'https://www.imdb.com/title/tt0102926/'}, {'id': 16, 'movie': 'Saving Private Ryan', 'rating': 8.6, 'image': 'images/saving_private_ryan.jpg', 'imdb_url': 'https://www.imdb.com/title/tt0120815/'}, {'id': 17, 'movie': 'Parasite', 'rating': 8.6, 'image': 'images/parasite.jpg', 'imdb_url': 'https://www.imdb.com/title/tt6751668/'}, {'id': 96, 'movie': 'Parasite', 'rating': 8.6, 'image': 'images/parasite.jpg', 'imdb_url': 'https://www.imdb.com/title/tt6751668/'}, {'id': 18, 'movie': 'Gladiator', 'rating': 8.5, 'image': 'images/gladiator.jpg', 'imdb_url': 'https://www.imdb.com/title/tt0172495/'}, {'id': 20, 'movie': 'The Lion King', 'rating': 8.5, 'image': 'images/lion_king.jpg', 'imdb_url': 'https://www.imdb.com/title/tt0110357/'}, {'id': 22, 'movie': 'The Prestige', 'rating': 8.5, 'image': 'images/the_prestige.jpg', 'imdb_url': 'https://www.imdb.com/title/tt0482571/'}, {'id': 24, 'movie': 'The Departed', 'rating': 8.5, 'image': 'images/the_departed.jpg', 'imdb_url': 'https://www.imdb.com/title/tt0407887/'}, {'id': 25, 'movie': 'Whiplash', 'rating': 8.5, 'image': 'images/whiplash.jpg', 'imdb_url': 'https://www.imdb.com/title/tt2582802/'}, {'id': 45, 'movie': 'Joker', 'rating': 8.5, 'image': 'images/joker.jpg', 'imdb_url': 'https://www.imdb.com/title/tt7286456/'}, {'id': 95, 'movie': 'Joker', 'rating': 8.5, 'image': 'images/joker.jpg', 'imdb_url': 'https://www.imdb.com/title/tt7286456/'}, {'id': 27, 'movie': 'Alien', 'rating': 8.4, 'image': 'images/alien.jpg', 'imdb_url': 'https://www.imdb.com/title/tt0078748/'}, {'id': 35, 'movie': 'The Shining', 'rating': 8.4, 'image': 'images/the_shining.jpg', 'imdb_url': 'https://www.imdb.com/title/tt0081505/'}, {'id': 36, 'movie': 'Apocalypse Now', 'rating': 8.4, 'image': 'images/apocalypse_now.jpg', 'imdb_url': 'https://www.imdb.com/title/tt0078788/'}, {'id': 46, 'movie': 'Avengers: Infinity War', 'rating': 8.4, 'image': 'images/avengers_infinity_war.jpg', 'imdb_url': 'https://www.imdb.com/title/tt4154756/'}, {'id': 83, 'movie': 'Avengers: Endgame', 'rating': 8.4, 'image': 'images/avengers_endgame.jpg', 'imdb_url': 'https://www.imdb.com/title/tt4154796/'}, {'id': 87, 'movie': 'Coco', 'rating': 8.4, 'image': 'images/coco.jpg', 'imdb_url': 'https://www.imdb.com/title/tt2380307/'}, {'id': 26, 'movie': 'Inglourious Basterds', 'rating': 8.3, 'image': 'images/inglourious_basterds.jpg', 'imdb_url': 'https://www.imdb.com/title/tt0361748/'}, {'id': 28, 'movie': 'Amélie', 'rating': 8.3, 'image': 'images/amelie.jpg', 'imdb_url': 'https://www.imdb.com/title/tt0211915/'}, {'id': 29, 'movie': 'Eternal Sunshine of the Spotless Mind', 'rating': 8.3, 'image': 'images/eternal_sunshine.jpg', 'imdb_url': 'https://www.imdb.com/title/tt0338013/'}, {'id': 30, 'movie': 'Requiem for a Dream', 'rating': 8.3, 'image': 'images/requiem_for_a_dream.jpg', 'imdb_url': 'https://www.imdb.com/title/tt0180093/'}, {'id': 33, 'movie': 'A Clockwork Orange', 'rating': 8.3, 'image': 'images/a_clockwork_orange.jpg', 'imdb_url': 'https://www.imdb.com/title/tt0066921/'}, {'id': 37, 'movie': 'Aliens', 'rating': 8.3, 'image': 'images/aliens.jpg', 'imdb_url': 'https://www.imdb.com/title/tt0090605/'}, {'id': 93, 'movie': '1917', 'rating': 8.3, 'image': 'images/1917.jpg', 'imdb_url': 'https://www.imdb.com/title/tt8579674/'}, {'id': 31, 'movie': \"Pan's Labyrinth\", 'rating': 8.2, 'image': 'images/pans_labyrinth.jpg', 'imdb_url': 'https://www.imdb.com/title/tt0457430/'}, {'id': 38, 'movie': 'Taxi Driver', 'rating': 8.2, 'image': 'images/taxi_driver.jpg', 'imdb_url': 'https://www.imdb.com/title/tt0075314/'}, {'id': 19, 'movie': 'Jurassic Park', 'rating': 8.1, 'image': 'images/jurassic_park.jpg', 'imdb_url': 'https://www.imdb.com/title/tt0107290/'}, {'id': 23, 'movie': 'Mad Max: Fury Road', 'rating': 8.1, 'image': 'images/mad_max_fury_road.jpg', 'imdb_url': 'https://www.imdb.com/title/tt1392190/'}, {'id': 34, 'movie': 'The Grand Budapest Hotel', 'rating': 8.1, 'image': 'images/the_grand_budapest_hotel.jpg', 'imdb_url': 'https://www.imdb.com/title/tt2278388/'}, {'id': 39, 'movie': 'No Country for Old Men', 'rating': 8.1, 'image': 'images/no_country_for_old_men.jpg', 'imdb_url': 'https://www.imdb.com/title/tt0477348/'}, {'id': 50, 'movie': 'The Grand Budapest Hotel', 'rating': 8.1, 'image': 'images/the_grand_budapest_hotel.jpg', 'imdb_url': 'https://www.imdb.com/title/tt2278388/'}, {'id': 51, 'movie': 'Mad Max: Fury Road', 'rating': 8.1, 'image': 'images/mad_max_fury_road.jpg', 'imdb_url': 'https://www.imdb.com/title/tt1392190/'}, {'id': 52, 'movie': 'Spotlight', 'rating': 8.1, 'image': 'images/spotlight.jpg', 'imdb_url': 'https://www.imdb.com/title/tt1895587/'}, {'id': 53, 'movie': 'Room', 'rating': 8.1, 'image': 'images/room.jpg', 'imdb_url': 'https://www.imdb.com/title/tt3170832/'}, {'id': 59, 'movie': 'Hacksaw Ridge', 'rating': 8.1, 'image': 'images/hacksaw_ridge.jpg', 'imdb_url': 'https://www.imdb.com/title/tt2119532/'}, {'id': 77, 'movie': 'Logan', 'rating': 8.1, 'image': 'images/logan.jpg', 'imdb_url': 'https://www.imdb.com/title/tt3315342/'}, {'id': 98, 'movie': 'Ford v Ferrari', 'rating': 8.1, 'image': 'images/ford_v_ferrari.jpg', 'imdb_url': 'https://www.imdb.com/title/tt1950186/'}, {'id': 21, 'movie': 'Blade Runner 2049', 'rating': 8, 'image': 'images/blade_runner_2049.jpg', 'imdb_url': 'https://www.imdb.com/title/tt1856101/'}, {'id': 32, 'movie': 'Her', 'rating': 8, 'image': 'images/her.jpg', 'imdb_url': 'https://www.imdb.com/title/tt1798709/'}, {'id': 42, 'movie': 'La La Land', 'rating': 8, 'image': 'images/la_la_land.jpg', 'imdb_url': 'https://www.imdb.com/title/tt3783958/'}, {'id': 47, 'movie': 'Guardians of the Galaxy', 'rating': 8, 'image': 'images/guardians_of_the_galaxy.jpg', 'imdb_url': 'https://www.imdb.com/title/tt2015381/'}, {'id': 49, 'movie': 'The Imitation Game', 'rating': 8, 'image': 'images/the_imitation_game.jpg', 'imdb_url': 'https://www.imdb.com/title/tt2084970/'}, {'id': 54, 'movie': 'The Revenant', 'rating': 8, 'image': 'images/the_revenant.jpg', 'imdb_url': 'https://www.imdb.com/title/tt1663202/'}, {'id': 60, 'movie': 'Lion', 'rating': 8, 'image': 'images/lion.jpg', 'imdb_url': 'https://www.imdb.com/title/tt3741834/'}, {'id': 63, 'movie': 'La La Land', 'rating': 8, 'image': 'images/la_la_land.jpg', 'imdb_url': 'https://www.imdb.com/title/tt3783958/'}, {'id': 66, 'movie': 'Zootopia', 'rating': 8, 'image': 'images/zootopia.jpg', 'imdb_url': 'https://www.imdb.com/title/tt2948356/'}, {'id': 48, 'movie': 'Dunkirk', 'rating': 7.9, 'image': 'images/dunkirk.jpg', 'imdb_url': 'https://www.imdb.com/title/tt5013056/'}, {'id': 61, 'movie': 'Arrival', 'rating': 7.9, 'image': 'images/arrival.jpg', 'imdb_url': 'https://www.imdb.com/title/tt2543164/'}, {'id': 81, 'movie': 'Thor: Ragnarok', 'rating': 7.9, 'image': 'images/thor_ragnarok.jpg', 'imdb_url': 'https://www.imdb.com/title/tt3501632/'}, {'id': 91, 'movie': 'Knives Out', 'rating': 7.9, 'image': 'images/knives_out.jpg', 'imdb_url': 'https://www.imdb.com/title/tt8946378/'}, {'id': 94, 'movie': 'Jojo Rabbit', 'rating': 7.9, 'image': 'images/jojo_rabbit.jpg', 'imdb_url': 'https://www.imdb.com/title/tt2584384/'}, {'id': 100, 'movie': 'Marriage Story', 'rating': 7.9, 'image': 'images/marriage_story.jpg', 'imdb_url': 'https://www.imdb.com/title/tt7653254/'}, {'id': 41, 'movie': 'Drive', 'rating': 7.8, 'image': 'images/drive.jpg', 'imdb_url': 'https://www.imdb.com/title/tt0780504/'}, {'id': 56, 'movie': 'The Big Short', 'rating': 7.8, 'image': 'images/the_big_short.jpg', 'imdb_url': 'https://www.imdb.com/title/tt1596363/'}, {'id': 58, 'movie': 'Manchester by the Sea', 'rating': 7.8, 'image': 'images/manchester_by_the_sea.jpg', 'imdb_url': 'https://www.imdb.com/title/tt4034228/'}, {'id': 64, 'movie': 'Hidden Figures', 'rating': 7.8, 'image': 'images/hidden_figures.jpg', 'imdb_url': 'https://www.imdb.com/title/tt4846340/'}, {'id': 71, 'movie': 'Kubo and the Two Strings', 'rating': 7.8, 'image': 'images/kubo_and_the_two_strings.jpg', 'imdb_url': 'https://www.imdb.com/title/tt4302938/'}, {'id': 76, 'movie': 'Rogue One: A Star Wars Story', 'rating': 7.8, 'image': 'images/rogue_one.jpg', 'imdb_url': 'https://www.imdb.com/title/tt3748528/'}, {'id': 97, 'movie': 'Little Women', 'rating': 7.8, 'image': 'images/little_women.jpg', 'imdb_url': 'https://www.imdb.com/title/tt3281548/'}, {'id': 99, 'movie': 'The Irishman', 'rating': 7.8, 'image': 'images/the_irishman.jpg', 'imdb_url': 'https://www.imdb.com/title/tt1302006/'}, {'id': 44, 'movie': 'The Social Network', 'rating': 7.7, 'image': 'images/the_social_network.jpg', 'imdb_url': 'https://www.imdb.com/title/tt1285016/'}, {'id': 85, 'movie': 'Deadpool 2', 'rating': 7.7, 'image': 'images/deadpool_2.jpg', 'imdb_url': 'https://www.imdb.com/title/tt5463162/'}, {'id': 88, 'movie': 'Toy Story 4', 'rating': 7.7, 'image': 'images/toy_story_4.jpg', 'imdb_url': 'https://www.imdb.com/title/tt1979376/'}, {'id': 57, 'movie': 'Hell or High Water', 'rating': 7.6, 'image': 'images/hell_or_high_water.jpg', 'imdb_url': 'https://www.imdb.com/title/tt2582782/'}, {'id': 67, 'movie': 'Moana', 'rating': 7.6, 'image': 'images/moana.jpg', 'imdb_url': 'https://www.imdb.com/title/tt3521164/'}, {'id': 79, 'movie': 'Guardians of the Galaxy Vol. 2', 'rating': 7.6, 'image': 'images/guardians_of_the_galaxy_vol_2.jpg', 'imdb_url': 'https://www.imdb.com/title/tt3896198/'}, {'id': 86, 'movie': 'The Incredibles 2', 'rating': 7.6, 'image': 'images/the_incredibles_2.jpg', 'imdb_url': 'https://www.imdb.com/title/tt3606756/'}, {'id': 92, 'movie': 'Once Upon a Time in Hollywood', 'rating': 7.6, 'image': 'images/once_upon_a_time_in_hollywood.jpg', 'imdb_url': 'https://www.imdb.com/title/tt7131622/'}, {'id': 55, 'movie': 'Brooklyn', 'rating': 7.5, 'image': 'images/brooklyn.jpg', 'imdb_url': 'https://www.imdb.com/title/tt2381111/'}, {'id': 75, 'movie': 'Doctor Strange', 'rating': 7.5, 'image': 'images/doctor_strange.jpg', 'imdb_url': 'https://www.imdb.com/title/tt1211837/'}, {'id': 43, 'movie': 'Moonlight', 'rating': 7.4, 'image': 'images/moonlight.jpg', 'imdb_url': 'https://www.imdb.com/title/tt4975722/'}, {'id': 62, 'movie': 'Moonlight', 'rating': 7.4, 'image': 'images/moonlight.jpg', 'imdb_url': 'https://www.imdb.com/title/tt4975722/'}, {'id': 70, 'movie': 'The Jungle Book', 'rating': 7.4, 'image': 'images/the_jungle_book.jpg', 'imdb_url': 'https://www.imdb.com/title/tt3040964/'}, {'id': 78, 'movie': 'Wonder Woman', 'rating': 7.4, 'image': 'images/wonder_woman.jpg', 'imdb_url': 'https://www.imdb.com/title/tt0451279/'}, {'id': 80, 'movie': 'Spider-Man: Homecoming', 'rating': 7.4, 'image': 'images/spider_man_homecoming.jpg', 'imdb_url': 'https://www.imdb.com/title/tt2250912/'}, {'id': 69, 'movie': 'Finding Dory', 'rating': 7.3, 'image': 'images/finding_dory.jpg', 'imdb_url': 'https://www.imdb.com/title/tt2277860/'}, {'id': 74, 'movie': 'Fantastic Beasts and Where to Find Them', 'rating': 7.3, 'image': 'images/fantastic_beasts.jpg', 'imdb_url': 'https://www.imdb.com/title/tt3183660/'}, {'id': 82, 'movie': 'Black Panther', 'rating': 7.3, 'image': 'images/black_panther.jpg', 'imdb_url': 'https://www.imdb.com/title/tt1825683/'}, {'id': 65, 'movie': 'Fences', 'rating': 7.2, 'image': 'images/fences.jpg', 'imdb_url': 'https://www.imdb.com/title/tt2671706/'}, {'id': 72, 'movie': 'Sing', 'rating': 7.1, 'image': 'images/sing.jpg', 'imdb_url': 'https://www.imdb.com/title/tt3470600/'}, {'id': 84, 'movie': 'Jumanji: Welcome to the Jungle', 'rating': 6.9, 'image': 'images/jumanji_welcome_to_the_jungle.jpg', 'imdb_url': 'https://www.imdb.com/title/tt2283362/'}, {'id': 89, 'movie': 'The Lion King', 'rating': 6.9, 'image': 'images/the_lion_king_2019.jpg', 'imdb_url': 'https://www.imdb.com/title/tt6105098/'}, {'id': 90, 'movie': 'Frozen II', 'rating': 6.9, 'image': 'images/frozen_2.jpg', 'imdb_url': 'https://www.imdb.com/title/tt4520988/'}, {'id': 68, 'movie': 'Trolls', 'rating': 6.5, 'image': 'images/trolls.jpg', 'imdb_url': 'https://www.imdb.com/title/tt1679335/'}, {'id': 73, 'movie': 'The Secret Life of Pets', 'rating': 6.5, 'image': 'images/the_secret_life_of_pets.jpg', 'imdb_url': 'https://www.imdb.com/title/tt2709768/'}]\n"
          ]
        }
      ],
      "source": [
        "url = 'https://dummyapi.online/api/movies'\n",
        "response = requests.get(url)\n",
        "if response.status_code == 200:\n",
        "  res_arr = response.json()\n",
        "  sorted_res= sort(res_arr, 'rating')\n",
        "  df = pd.DataFrame(sorted_res)\n",
        "  df.to_excel('sorted_movies.xlsx', index=False)\n",
        "  print(\"Data stores to stored_movies.xlsx\")\n",
        "  print(sorted_res)\n",
        "else:\n",
        "    print(':)')"
      ]
    }
  ],
  "metadata": {
    "colab": {
      "provenance": [],
      "toc_visible": true
    },
    "kernelspec": {
      "display_name": "Python 3",
      "name": "python3"
    },
    "language_info": {
      "name": "python",
      "version": "3.13.0"
    }
  },
  "nbformat": 4,
  "nbformat_minor": 0
}
